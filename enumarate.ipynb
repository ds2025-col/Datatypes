{
  "nbformat": 4,
  "nbformat_minor": 0,
  "metadata": {
    "colab": {
      "provenance": [],
      "authorship_tag": "ABX9TyMFuMsopp2BHwks5sfZWihx",
      "include_colab_link": true
    },
    "kernelspec": {
      "name": "python3",
      "display_name": "Python 3"
    },
    "language_info": {
      "name": "python"
    }
  },
  "cells": [
    {
      "cell_type": "markdown",
      "metadata": {
        "id": "view-in-github",
        "colab_type": "text"
      },
      "source": [
        "<a href=\"https://colab.research.google.com/github/ds2025-col/Datatypes/blob/main/enumarate.ipynb\" target=\"_parent\"><img src=\"https://colab.research.google.com/assets/colab-badge.svg\" alt=\"Open In Colab\"/></a>"
      ]
    },
    {
      "cell_type": "code",
      "source": [
        "x=['ann','ram','anna','sam']\n",
        "y=enumerate(x)\n",
        "print(y)\n",
        "list(y)\n",
        "\n",
        "# list = __builtins__.list\n",
        "# list_y = list(y)\n",
        "# print(list_y)\n",
        "\n",
        "# my_list = ['ann','ram','anna','sam']\n",
        "# obj = enumerate(my_list)\n",
        "# print(obj)\n",
        "# list_obj = list(obj)"
      ],
      "metadata": {
        "colab": {
          "base_uri": "https://localhost:8080/"
        },
        "id": "KdU_taOtw0l0",
        "outputId": "1599fb30-d98d-45f9-edb6-59b501c0f0ff"
      },
      "execution_count": null,
      "outputs": [
        {
          "output_type": "stream",
          "name": "stdout",
          "text": [
            "<enumerate object at 0x7c2afe15f470>\n"
          ]
        },
        {
          "output_type": "execute_result",
          "data": {
            "text/plain": [
              "[(0, 'ann'), (1, 'ram'), (2, 'anna'), (3, 'sam')]"
            ]
          },
          "metadata": {},
          "execution_count": 28
        }
      ]
    },
    {
      "cell_type": "code",
      "source": [
        "fruit=['apple','banana','cherry']\n",
        "x= enumerate(fruit)\n",
        "print(x)\n",
        "list(x)\n"
      ],
      "metadata": {
        "colab": {
          "base_uri": "https://localhost:8080/"
        },
        "id": "9N2u6zG6yQKP",
        "outputId": "99f0e2c5-f4cb-4ad9-96c0-4cee79a4ef03"
      },
      "execution_count": null,
      "outputs": [
        {
          "output_type": "stream",
          "name": "stdout",
          "text": [
            "<enumerate object at 0x7c2afe194a90>\n"
          ]
        },
        {
          "output_type": "execute_result",
          "data": {
            "text/plain": [
              "[(0, 'apple'), (1, 'banana'), (2, 'cherry')]"
            ]
          },
          "metadata": {},
          "execution_count": 30
        }
      ]
    },
    {
      "cell_type": "code",
      "source": [
        "a=[{'name':'ann','age':10},{'name':'ram','age':20},{'name':'anna','age':18}]\n",
        "x=list(enumerate(a))\n",
        "print(x)\n",
        "print(x[1][1])"
      ],
      "metadata": {
        "colab": {
          "base_uri": "https://localhost:8080/"
        },
        "id": "wSHq21awtEgp",
        "outputId": "6abeb60d-1cdb-4dbc-e910-c704295afb00"
      },
      "execution_count": null,
      "outputs": [
        {
          "output_type": "stream",
          "name": "stdout",
          "text": [
            "[(0, {'name': 'ann', 'age': 10}), (1, {'name': 'ram', 'age': 20}), (2, {'name': 'anna', 'age': 18})]\n",
            "{'name': 'ram', 'age': 20}\n"
          ]
        }
      ]
    },
    {
      "cell_type": "code",
      "source": [
        "a=[[1,2,3],[1,2,4],[2,4,6]]\n",
        "print(list(enumerate(a)))\n",
        "print(a[1][2])\n",
        "print(len(a))"
      ],
      "metadata": {
        "colab": {
          "base_uri": "https://localhost:8080/"
        },
        "id": "E-69s8ugug8L",
        "outputId": "0285b65e-a785-4198-ffe8-eeca218d6310"
      },
      "execution_count": null,
      "outputs": [
        {
          "output_type": "stream",
          "name": "stdout",
          "text": [
            "[(0, [1, 2, 3]), (1, [1, 2, 4]), (2, [2, 4, 6])]\n",
            "4\n",
            "3\n"
          ]
        }
      ]
    },
    {
      "cell_type": "code",
      "source": [
        "name=['arun','akshay','reenu']\n",
        "print(list(enumerate(name)))\n",
        "print(name[0])"
      ],
      "metadata": {
        "colab": {
          "base_uri": "https://localhost:8080/"
        },
        "id": "n452XZ-l9SBJ",
        "outputId": "ae192d94-1219-4736-924d-7e79a7ecf1a7"
      },
      "execution_count": 18,
      "outputs": [
        {
          "output_type": "stream",
          "name": "stdout",
          "text": [
            "[(0, 'arun'), (1, 'akshay'), (2, 'reenu')]\n",
            "arun\n"
          ]
        }
      ]
    },
    {
      "cell_type": "code",
      "source": [
        "a=[{'name'}]"
      ],
      "metadata": {
        "id": "XjjY5b2bA_4S"
      },
      "execution_count": null,
      "outputs": []
    }
  ]
}