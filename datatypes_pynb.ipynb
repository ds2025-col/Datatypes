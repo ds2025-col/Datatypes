{
  "nbformat": 4,
  "nbformat_minor": 0,
  "metadata": {
    "colab": {
      "provenance": [],
      "authorship_tag": "ABX9TyNYF5P7Cq/EJudlbx0GqzAi",
      "include_colab_link": true
    },
    "kernelspec": {
      "name": "python3",
      "display_name": "Python 3"
    },
    "language_info": {
      "name": "python"
    }
  },
  "cells": [
    {
      "cell_type": "markdown",
      "metadata": {
        "id": "view-in-github",
        "colab_type": "text"
      },
      "source": [
        "<a href=\"https://colab.research.google.com/github/ds2025-col/Datatypes/blob/main/datatypes_pynb.ipynb\" target=\"_parent\"><img src=\"https://colab.research.google.com/assets/colab-badge.svg\" alt=\"Open In Colab\"/></a>"
      ]
    },
    {
      "cell_type": "code",
      "execution_count": null,
      "metadata": {
        "id": "PGRvMpTMXgul"
      },
      "outputs": [],
      "source": []
    },
    {
      "cell_type": "markdown",
      "source": [
        "text=str\n",
        "\n",
        "num=int,float,complex\n",
        "\n",
        "sequance type=list,tuple,range\n",
        "\n",
        "mapping=dict\n",
        "\n",
        "set=frozen,set\n",
        "\n",
        "boolean type=bool\n"
      ],
      "metadata": {
        "id": "-Gp0mWyIXsBC"
      }
    },
    {
      "cell_type": "markdown",
      "source": [
        "**List is a collection of data**\n",
        "\n",
        "**tuple is also orderd collection of python object**\n",
        "**the only difference between tuple and list is the tuple are imutable.**\n",
        "\n",
        "**A set is a unordered collection of data types that is iterable,mutable and has no dublicate elements.**\n",
        "\n",
        "**a frozen set is a imutable  version of a python set object.\n",
        " x=frozen set([1,2,3])**\n",
        "\n",
        "**Dictionary is an unordered collection of key value pair.**\n",
        "\n",
        "**String is a series of characcters enclosed in quatation mark.  eg-'hello world**\n",
        "\n"
      ],
      "metadata": {
        "id": "ZKX4X985YBZC"
      }
    },
    {
      "cell_type": "code",
      "source": [
        "x=4\n",
        "y=complex(x)\n",
        "print(y)"
      ],
      "metadata": {
        "colab": {
          "base_uri": "https://localhost:8080/"
        },
        "id": "OZxF-CmdXsx1",
        "outputId": "8318d9e4-323f-46b9-8716-5c49fc346155"
      },
      "execution_count": null,
      "outputs": [
        {
          "output_type": "stream",
          "name": "stdout",
          "text": [
            "(4+0j)\n"
          ]
        }
      ]
    },
    {
      "cell_type": "markdown",
      "source": [
        "membership operators\n"
      ],
      "metadata": {
        "id": "_6yp89FQZ87g"
      }
    },
    {
      "cell_type": "markdown",
      "source": [
        "list\n"
      ],
      "metadata": {
        "id": "1fw1I09YdeIc"
      }
    },
    {
      "cell_type": "markdown",
      "source": [],
      "metadata": {
        "id": "_94eflhzdd0n"
      }
    },
    {
      "cell_type": "code",
      "source": [
        "a=['apple','orange','banana']\n",
        "print('apple' in a)\n",
        "print('mango' not in a)\n",
        "print('apple' not in a)"
      ],
      "metadata": {
        "colab": {
          "base_uri": "https://localhost:8080/"
        },
        "id": "qwGJsRVtXz0h",
        "outputId": "b946e160-cb03-4e02-cc42-60dab00481c5"
      },
      "execution_count": null,
      "outputs": [
        {
          "output_type": "stream",
          "name": "stdout",
          "text": [
            "True\n",
            "True\n",
            "False\n"
          ]
        }
      ]
    },
    {
      "cell_type": "markdown",
      "source": [
        "**List**"
      ],
      "metadata": {
        "id": "eVnavbzyezgS"
      }
    },
    {
      "cell_type": "code",
      "source": [
        "a=[1,'ann',25,'17',True]   #replace\n",
        "a[3]=15\n",
        "print(a)"
      ],
      "metadata": {
        "colab": {
          "base_uri": "https://localhost:8080/"
        },
        "id": "KpUalxf9eu6q",
        "outputId": "c56fb2a7-d1c6-4e8c-9e6f-2a8ae3891904"
      },
      "execution_count": null,
      "outputs": [
        {
          "output_type": "stream",
          "name": "stdout",
          "text": [
            "[1, 'ann', 25, 15, True]\n"
          ]
        }
      ]
    },
    {
      "cell_type": "code",
      "source": [
        "a=[1,7,6]\n",
        "a.append(2)  #append\n",
        "print(a)\n"
      ],
      "metadata": {
        "colab": {
          "base_uri": "https://localhost:8080/"
        },
        "id": "JAhefUgzf4b1",
        "outputId": "6fc8b41f-5044-4421-fb36-5a8b9c546722"
      },
      "execution_count": null,
      "outputs": [
        {
          "output_type": "stream",
          "name": "stdout",
          "text": [
            "[1, 7, 6, 2]\n"
          ]
        }
      ]
    },
    {
      "cell_type": "code",
      "source": [
        "a.insert(2,'try')\n",
        "print(a)  #insert"
      ],
      "metadata": {
        "colab": {
          "base_uri": "https://localhost:8080/",
          "height": 159
        },
        "id": "kbQrLTi6hNDa",
        "outputId": "3b3c7af9-d60c-46b5-d188-047d65095bb7"
      },
      "execution_count": null,
      "outputs": [
        {
          "output_type": "error",
          "ename": "NameError",
          "evalue": "name 'a' is not defined",
          "traceback": [
            "\u001b[0;31m---------------------------------------------------------------------------\u001b[0m",
            "\u001b[0;31mNameError\u001b[0m                                 Traceback (most recent call last)",
            "\u001b[0;32m<ipython-input-1-72b83a690951>\u001b[0m in \u001b[0;36m<cell line: 0>\u001b[0;34m()\u001b[0m\n\u001b[0;32m----> 1\u001b[0;31m \u001b[0ma\u001b[0m\u001b[0;34m.\u001b[0m\u001b[0minsert\u001b[0m\u001b[0;34m(\u001b[0m\u001b[0;36m2\u001b[0m\u001b[0;34m,\u001b[0m\u001b[0;34m'try'\u001b[0m\u001b[0;34m)\u001b[0m\u001b[0;34m\u001b[0m\u001b[0;34m\u001b[0m\u001b[0m\n\u001b[0m\u001b[1;32m      2\u001b[0m \u001b[0mprint\u001b[0m\u001b[0;34m(\u001b[0m\u001b[0ma\u001b[0m\u001b[0;34m)\u001b[0m  \u001b[0;31m#insert\u001b[0m\u001b[0;34m\u001b[0m\u001b[0;34m\u001b[0m\u001b[0m\n",
            "\u001b[0;31mNameError\u001b[0m: name 'a' is not defined"
          ]
        }
      ]
    },
    {
      "cell_type": "code",
      "source": [
        "a.extend([4,9])\n",
        "print(a)  #extend"
      ],
      "metadata": {
        "colab": {
          "base_uri": "https://localhost:8080/"
        },
        "id": "HBBKFHmYhnVp",
        "outputId": "64399956-675a-41aa-826d-c2bb23c9f5c6"
      },
      "execution_count": null,
      "outputs": [
        {
          "output_type": "stream",
          "name": "stdout",
          "text": [
            "[1, 'try', 7, 6, 2, 4, 9]\n"
          ]
        }
      ]
    },
    {
      "cell_type": "code",
      "source": [
        "a.pop(1)\n",
        "print(a) #pop"
      ],
      "metadata": {
        "colab": {
          "base_uri": "https://localhost:8080/"
        },
        "id": "6HjiDdieiEIr",
        "outputId": "4cc0429a-884c-4ef3-ed08-f76a955e33c9"
      },
      "execution_count": null,
      "outputs": [
        {
          "output_type": "stream",
          "name": "stdout",
          "text": [
            "[1, 7, 6, 2, 4, 9]\n"
          ]
        }
      ]
    },
    {
      "cell_type": "code",
      "source": [
        "a.remove(6)\n",
        "print(a)   #remove"
      ],
      "metadata": {
        "colab": {
          "base_uri": "https://localhost:8080/"
        },
        "id": "XSGphbyCieSd",
        "outputId": "19654fbf-0edd-42d9-99cd-f11a0f2c7c05"
      },
      "execution_count": null,
      "outputs": [
        {
          "output_type": "stream",
          "name": "stdout",
          "text": [
            "[1, 7, 2, 4, 9]\n"
          ]
        }
      ]
    },
    {
      "cell_type": "code",
      "source": [
        "x=[1,9,2,5,7]\n",
        "x.sort() #acending\n",
        "print(x)"
      ],
      "metadata": {
        "colab": {
          "base_uri": "https://localhost:8080/"
        },
        "id": "ipmh3gyhixxc",
        "outputId": "87384d8e-ee2d-45ba-ad60-7cee4a7f740f"
      },
      "execution_count": null,
      "outputs": [
        {
          "output_type": "stream",
          "name": "stdout",
          "text": [
            "[1, 2, 5, 7, 9]\n"
          ]
        }
      ]
    },
    {
      "cell_type": "code",
      "source": [
        "x.sort(reverse=True)  #decending\n",
        "print(x)"
      ],
      "metadata": {
        "colab": {
          "base_uri": "https://localhost:8080/"
        },
        "id": "3hRDJV8XjdyO",
        "outputId": "3938e596-c930-4a8c-df6d-012a154d01ef"
      },
      "execution_count": null,
      "outputs": [
        {
          "output_type": "stream",
          "name": "stdout",
          "text": [
            "[9, 7, 5, 2, 1]\n"
          ]
        }
      ]
    },
    {
      "cell_type": "markdown",
      "source": [
        "Nested **List**"
      ],
      "metadata": {
        "id": "uL_fwBeWkbSg"
      }
    },
    {
      "cell_type": "code",
      "source": [
        "x=[[1,0,5],[3,4,5,6],[1,2,3]]\n",
        "print(x[2][0])\n"
      ],
      "metadata": {
        "colab": {
          "base_uri": "https://localhost:8080/"
        },
        "id": "U4EshOoZkuic",
        "outputId": "4ba40ab9-254a-43c3-f236-0e151813753e"
      },
      "execution_count": null,
      "outputs": [
        {
          "output_type": "stream",
          "name": "stdout",
          "text": [
            "1\n"
          ]
        }
      ]
    },
    {
      "cell_type": "code",
      "source": [
        "a=[1,2,3,4]\n",
        "print(sum(a))\n",
        "print(len(a))"
      ],
      "metadata": {
        "colab": {
          "base_uri": "https://localhost:8080/"
        },
        "id": "oNxFX-EAkapS",
        "outputId": "d6e70b6f-743f-4ab2-eba0-b1cfe6aa599e"
      },
      "execution_count": null,
      "outputs": [
        {
          "output_type": "stream",
          "name": "stdout",
          "text": [
            "10\n",
            "4\n"
          ]
        }
      ]
    },
    {
      "cell_type": "code",
      "source": [],
      "metadata": {
        "id": "uWrHEH-enkDO"
      },
      "execution_count": null,
      "outputs": []
    },
    {
      "cell_type": "code",
      "source": [],
      "metadata": {
        "id": "6bx1ArN7kEzw"
      },
      "execution_count": null,
      "outputs": []
    }
  ]
}