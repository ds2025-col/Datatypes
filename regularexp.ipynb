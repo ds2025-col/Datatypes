{
  "nbformat": 4,
  "nbformat_minor": 0,
  "metadata": {
    "colab": {
      "provenance": [],
      "authorship_tag": "ABX9TyOrJcQNac4ppBPj3U8+QI4I",
      "include_colab_link": true
    },
    "kernelspec": {
      "name": "python3",
      "display_name": "Python 3"
    },
    "language_info": {
      "name": "python"
    }
  },
  "cells": [
    {
      "cell_type": "markdown",
      "metadata": {
        "id": "view-in-github",
        "colab_type": "text"
      },
      "source": [
        "<a href=\"https://colab.research.google.com/github/ds2025-col/Datatypes/blob/main/regularexp.ipynb\" target=\"_parent\"><img src=\"https://colab.research.google.com/assets/colab-badge.svg\" alt=\"Open In Colab\"/></a>"
      ]
    },
    {
      "cell_type": "code",
      "execution_count": null,
      "metadata": {
        "id": "p8Z2_TCF_imT"
      },
      "outputs": [],
      "source": []
    },
    {
      "cell_type": "markdown",
      "source": [
        "**re-module we can change,clean or check some data in a text document.**\n",
        "\n",
        ".match\n",
        "\n",
        ".search\n",
        "\n",
        ".findall\n",
        "\n",
        ".sub\n",
        "\n",
        ".slipt\n",
        "\n"
      ],
      "metadata": {
        "id": "WQAPpraaDPIF"
      }
    },
    {
      "cell_type": "code",
      "source": [
        "import re         #match\n",
        "x='python is a programming lanquage'# only first\n",
        "y=re.match('python',x)\n",
        "print(y)"
      ],
      "metadata": {
        "colab": {
          "base_uri": "https://localhost:8080/"
        },
        "id": "NSiI4k2YDy4S",
        "outputId": "51e0853b-d9f2-490b-b270-94bc06598dac"
      },
      "execution_count": 1,
      "outputs": [
        {
          "output_type": "stream",
          "name": "stdout",
          "text": [
            "<re.Match object; span=(0, 6), match='python'>\n"
          ]
        }
      ]
    },
    {
      "cell_type": "code",
      "source": [
        "import re\n",
        "x='i am a student'\n",
        "y=re.match('student',x)\n",
        "print(y)"
      ],
      "metadata": {
        "colab": {
          "base_uri": "https://localhost:8080/"
        },
        "id": "OiuSPcjzEdhl",
        "outputId": "9fda915e-109b-4dc1-d9f7-7552c55e9dcb"
      },
      "execution_count": 2,
      "outputs": [
        {
          "output_type": "stream",
          "name": "stdout",
          "text": [
            "None\n"
          ]
        }
      ]
    },
    {
      "cell_type": "code",
      "source": [
        "import re\n",
        "x='i am student'\n",
        "y=re.match('i',x)\n",
        "\n",
        "if y:\n",
        "  print('yes')\n",
        "else:\n",
        "  print('no')"
      ],
      "metadata": {
        "colab": {
          "base_uri": "https://localhost:8080/"
        },
        "id": "4BaBX8elFW48",
        "outputId": "4c54223e-c18f-42d2-dcba-3a4a21df319c"
      },
      "execution_count": 3,
      "outputs": [
        {
          "output_type": "stream",
          "name": "stdout",
          "text": [
            "yes\n"
          ]
        }
      ]
    },
    {
      "cell_type": "code",
      "source": [
        "#search\n",
        "import re\n",
        "x='i am student'\n",
        "y=re.search('student',x)\n",
        "print(y)\n",
        "if y:\n",
        "  print('found')\n",
        "else:\n",
        "  print('not found')"
      ],
      "metadata": {
        "colab": {
          "base_uri": "https://localhost:8080/"
        },
        "id": "EWfRKnBSF-hB",
        "outputId": "96f0a007-3587-4ba3-ef03-febc20835792"
      },
      "execution_count": 5,
      "outputs": [
        {
          "output_type": "stream",
          "name": "stdout",
          "text": [
            "<re.Match object; span=(5, 12), match='student'>\n",
            "found\n"
          ]
        }
      ]
    },
    {
      "cell_type": "code",
      "source": [
        "y=re.search('is',x)\n",
        "print(y)"
      ],
      "metadata": {
        "colab": {
          "base_uri": "https://localhost:8080/"
        },
        "id": "I_ZSXxhKHVBK",
        "outputId": "c7c4988e-c9a4-409b-86e1-b1ff3581880f"
      },
      "execution_count": 6,
      "outputs": [
        {
          "output_type": "stream",
          "name": "stdout",
          "text": [
            "None\n"
          ]
        }
      ]
    },
    {
      "cell_type": "code",
      "source": [
        "import re\n",
        "x='this is apple'\n",
        "y=re.search('are',x)\n",
        "if y:\n",
        "  print('found')\n",
        "else:\n",
        "  print('not found')"
      ],
      "metadata": {
        "colab": {
          "base_uri": "https://localhost:8080/"
        },
        "id": "ZqrKRD4mHow2",
        "outputId": "dd8f06f3-ec80-4477-b67f-122d31625cad"
      },
      "execution_count": 8,
      "outputs": [
        {
          "output_type": "stream",
          "name": "stdout",
          "text": [
            "not found\n"
          ]
        }
      ]
    },
    {
      "cell_type": "code",
      "source": [
        "#substitution\n",
        "import re\n",
        "x='this is 789'\n",
        "y=re.sub(r'\\d','python',x)    #r'\\d' is a way to find single digit wthin a string using regular expression in python\n",
        "print(y)"
      ],
      "metadata": {
        "colab": {
          "base_uri": "https://localhost:8080/"
        },
        "id": "L7rC2EH1IWvu",
        "outputId": "b4ba852c-5e80-46af-dd2a-2d7fd4c20a34"
      },
      "execution_count": 11,
      "outputs": [
        {
          "output_type": "stream",
          "name": "stdout",
          "text": [
            "this is pythonpythonpython\n"
          ]
        }
      ]
    },
    {
      "cell_type": "code",
      "source": [
        "x='hai ^&*& dan'\n",
        "y=re.sub('[^a-z,A-z,0-9\\s]','',x)\n",
        "print(y)"
      ],
      "metadata": {
        "colab": {
          "base_uri": "https://localhost:8080/"
        },
        "id": "bFd8aOY5MP3R",
        "outputId": "4af3012c-816f-4d02-c33e-191e658bcda2"
      },
      "execution_count": 12,
      "outputs": [
        {
          "output_type": "stream",
          "name": "stdout",
          "text": [
            "hai ^ dan\n"
          ]
        }
      ]
    },
    {
      "cell_type": "markdown",
      "source": [
        "[^a-z,A-z,0-9\\s]expressin will macth any character that is not a lower case letter , an upper case lrtter ,a digit ,a white space or a comma"
      ],
      "metadata": {
        "id": "ST71CQw8NWry"
      }
    },
    {
      "cell_type": "code",
      "source": [
        "import re\n",
        "x='hai *+_# sam'\n",
        "y=re.sub('[^a-z,A-z,0-9\\s]',' hello',x)\n",
        "print(y)"
      ],
      "metadata": {
        "colab": {
          "base_uri": "https://localhost:8080/"
        },
        "id": "KI12glswN-vO",
        "outputId": "a387eae4-5713-40eb-f164-64f2cdda9622"
      },
      "execution_count": 15,
      "outputs": [
        {
          "output_type": "stream",
          "name": "stdout",
          "text": [
            "hai  hello hello_ hello sam\n"
          ]
        }
      ]
    },
    {
      "cell_type": "code",
      "source": [
        "#slipt\n",
        "import re\n",
        "x='hai hallo how are you'\n",
        "y=re.split('\\s',x)\n",
        "print(y)\n"
      ],
      "metadata": {
        "colab": {
          "base_uri": "https://localhost:8080/"
        },
        "id": "pdvrbdzxINB5",
        "outputId": "41a9c010-d90d-4265-b4e3-28576228de12"
      },
      "execution_count": 16,
      "outputs": [
        {
          "output_type": "stream",
          "name": "stdout",
          "text": [
            "['hai', 'hallo', 'how', 'are', 'you']\n"
          ]
        }
      ]
    },
    {
      "cell_type": "code",
      "source": [
        "x='hou are you'\n",
        "y=re.split('',x)\n",
        "print(y)"
      ],
      "metadata": {
        "colab": {
          "base_uri": "https://localhost:8080/"
        },
        "id": "TzS_hJe4QVYd",
        "outputId": "83d4a011-e12b-4d23-b023-e39ca617a39d"
      },
      "execution_count": 19,
      "outputs": [
        {
          "output_type": "stream",
          "name": "stdout",
          "text": [
            "['', 'h', 'o', 'u', ' ', 'a', 'r', 'e', ' ', 'y', 'o', 'u', '']\n"
          ]
        }
      ]
    }
  ]
}